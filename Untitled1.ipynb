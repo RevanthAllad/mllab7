{
 "cells": [
  {
   "cell_type": "code",
   "execution_count": 1,
   "id": "38ebc041",
   "metadata": {},
   "outputs": [],
   "source": [
    "import numpy as np\n",
    "a = np.load(\"C:\\\\Users\\\\SAI REVANTH\\\\Downloads\\\\activation_maps_binarization_Bangli-P9.jpg.npy\")\n",
    "b = np.load(\"C:\\\\Users\\\\SAI REVANTH\\\\Downloads\\\\activation_maps_binarization_mask_Bangli-P9.jpg.npy\")\n"
   ]
  },
  {
   "cell_type": "code",
   "execution_count": null,
   "id": "268b20f6",
   "metadata": {},
   "outputs": [],
   "source": [
    "import numpy as np\n",
    "from sklearn.model_selection import train_test_split\n",
    "from sklearn import svm\n",
    "from sklearn.metrics import accuracy_score, classification_report\n",
    "\n",
    "# Load your dataset from a numpy file\n",
    "data = np.load(\"C:\\\\Users\\\\SAI REVANTH\\\\Downloads\\\\activation_maps_binarization_Bangli-P9.jpg.npy\")\n",
    "\n",
    "# Assuming that your dataset is structured with features in the first columns and labels in the last column\n",
    "X = data[:, :-1]  # Features\n",
    "y = data[:, -1]   # Labels\n",
    "\n",
    "from sklearn.preprocessing import LabelEncoder\n",
    "\n",
    "# Assuming y contains non-integer labels\n",
    "label_encoder = LabelEncoder()\n",
    "y = label_encoder.fit_transform(y)\n",
    "\n",
    "# Split the dataset into training and testing sets\n",
    "X_train, X_test, y_train, y_test = train_test_split(X, y, test_size=0.2, random_state=42)\n",
    "\n",
    "# Initialize an SVM classifier (you can choose different kernel functions like 'linear', 'rbf', etc.)\n",
    "svm_classifier = svm.SVC(kernel='linear')\n",
    "\n",
    "# Train the SVM model on the training data\n",
    "svm_classifier.fit(X_train, y_train)\n",
    "\n",
    "# Make predictions on the test data\n",
    "y_pred = svm_classifier.predict(X_test)\n",
    "\n",
    "# Calculate accuracy and other metrics\n",
    "accuracy = accuracy_score(y_test, y_pred)\n",
    "classification_rep = classification_report(y_test, y_pred)\n",
    "\n",
    "print(\"Accuracy:\", accuracy)\n",
    "print(\"Classification Report:\\n\", classification_rep)\n"
   ]
  },
  {
   "cell_type": "code",
   "execution_count": 1,
   "id": "060555c2",
   "metadata": {},
   "outputs": [],
   "source": [
    "import numpy as np\n",
    "from sklearn.model_selection import train_test_split\n",
    "from sklearn import svm\n",
    "from sklearn.metrics import accuracy_score, classification_report\n",
    "\n",
    "# Load your dataset from a numpy file\n",
    "data = np.load(\"C:\\\\Users\\\\SAI REVANTH\\\\Downloads\\\\activation_maps_binarization_Bangli-P9.jpg.npy\")"
   ]
  },
  {
   "cell_type": "code",
   "execution_count": 2,
   "id": "2be88b87",
   "metadata": {},
   "outputs": [],
   "source": [
    "# Assuming that your dataset is structured with features in the first columns and labels in the last column\n",
    "X = data[:, :-1]  # Features\n",
    "y = data[:, -1]   # Labels"
   ]
  },
  {
   "cell_type": "code",
   "execution_count": 3,
   "id": "6bd2877b",
   "metadata": {},
   "outputs": [],
   "source": [
    "# Assuming y contains non-integer labels\n",
    "from sklearn.preprocessing import LabelEncoder\n",
    "label_encoder = LabelEncoder()\n",
    "y = label_encoder.fit_transform(y)"
   ]
  },
  {
   "cell_type": "code",
   "execution_count": 4,
   "id": "d8d83d79",
   "metadata": {},
   "outputs": [],
   "source": [
    "# Split the dataset into training and testing sets\n",
    "X_train, X_test, y_train, y_test = train_test_split(X, y, test_size=0.2, random_state=42)"
   ]
  },
  {
   "cell_type": "code",
   "execution_count": 5,
   "id": "9759b763",
   "metadata": {},
   "outputs": [],
   "source": [
    "# Initialize an SVM classifier (you can choose different kernel functions like 'linear', 'rbf', etc.)\n",
    "svm_classifier = svm.SVC(kernel='linear')\n",
    "\n"
   ]
  },
  {
   "cell_type": "code",
   "execution_count": null,
   "id": "9fccd923",
   "metadata": {},
   "outputs": [],
   "source": [
    "# Train the SVM model on the training data\n",
    "svm_classifier.fit(X_train, y_train)\n",
    "\n"
   ]
  },
  {
   "cell_type": "code",
   "execution_count": null,
   "id": "33f3d5d7",
   "metadata": {},
   "outputs": [],
   "source": []
  }
 ],
 "metadata": {
  "kernelspec": {
   "display_name": "Python 3 (ipykernel)",
   "language": "python",
   "name": "python3"
  },
  "language_info": {
   "codemirror_mode": {
    "name": "ipython",
    "version": 3
   },
   "file_extension": ".py",
   "mimetype": "text/x-python",
   "name": "python",
   "nbconvert_exporter": "python",
   "pygments_lexer": "ipython3",
   "version": "3.11.3"
  }
 },
 "nbformat": 4,
 "nbformat_minor": 5
}
